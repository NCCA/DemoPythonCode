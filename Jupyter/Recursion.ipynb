{
 "cells": [
  {
   "cell_type": "markdown",
   "metadata": {},
   "source": [
    "# Demo Recursion code\n",
    "\n",
    "The following code demonstrates the use of a simple recursion function"
   ]
  },
  {
   "cell_type": "code",
   "execution_count": 1,
   "metadata": {},
   "outputs": [
    {
     "name": "stdout",
     "output_type": "stream",
     "text": [
      "current n is 2\n",
      "current n is 4\n",
      "current n is 6\n",
      "current n is 8\n",
      "current n is 10\n",
      "current n is 12\n",
      "current n is 14\n",
      "current n is 16\n",
      "current n is 18\n"
     ]
    }
   ],
   "source": [
    "def spiral(n):\n",
    "    if n < 20:\n",
    "        print(\"current n is {}\".format(n))\n",
    "        spiral(n+2)\n",
    " \n",
    "spiral(2)"
   ]
  },
  {
   "cell_type": "markdown",
   "metadata": {},
   "source": [
    "<iframe width=\"800\" height=\"500\" frameborder=\"0\" src=\"http://pythontutor.com/iframe-embed.html#code=def%20spiral%28n%29%3A%0A%20%20%20%20if%20n%20%3C%2020%3A%0A%20%20%20%20%20%20%20%20print%28%22current%20n%20is%20%7B%7D%22.format%28n%29%29%0A%20%20%20%20%20%20%20%20spiral%28n%2B2%29%0A%20%0Aspiral%282%29&codeDivHeight=400&codeDivWidth=350&cumulative=false&curInstr=0&heapPrimitives=nevernest&origin=opt-frontend.js&py=3&rawInputLstJSON=%5B%5D&textReferences=false\"> </iframe>"
   ]
  },
  {
   "cell_type": "markdown",
   "metadata": {},
   "source": [
    "<iframe width=\"800\" height=\"500\" frameborder=\"0\" src=\"http://pythontutor.com/iframe-embed.html#code=def%20spiral%28n%29%3A%0A%20%20%20%20if%20n%20%3C%2020%3A%0A%20%20%20%20%20%20%20%20print%28%22current%20n%20is%20%7B%7D%22.format%28n%29%29%0A%20%20%20%20%20%20%20%20spiral%28n%2B2%29%0A%20%0Aspiral%282%29&codeDivHeight=400&codeDivWidth=350&cumulative=false&curInstr=0&heapPrimitives=nevernest&origin=opt-frontend.js&py=3&rawInputLstJSON=%5B%5D&textReferences=false\"> </iframe>"
   ]
  },
  {
   "cell_type": "markdown",
   "metadata": {},
   "source": [
    "<iframe width=\"800\" height=\"500\" frameborder=\"0\" src=\"http://pythontutor.com/iframe-embed.html#code=def%20spiral%28n%29%3A%0A%20%20%20%20if%20n%20%3C%2020%3A%0A%20%20%20%20%20%20%20%20print%28%22current%20n%20is%20%7B%7D%22.format%28n%29%29%0A%20%20%20%20%20%20%20%20spiral%28n%2B2%29%0A%20%0Aspiral%282%29&codeDivHeight=400&codeDivWidth=350&cumulative=false&curInstr=0&heapPrimitives=nevernest&origin=opt-frontend.js&py=3&rawInputLstJSON=%5B%5D&textReferences=false\"> </iframe>"
   ]
  },
  {
   "cell_type": "markdown",
   "metadata": {},
   "source": [
    "<iframe width=\"800\" height=\"500\" frameborder=\"0\" src=\"https://pythontutor.com/iframe-embed.html#code=def%20spiral%28n%29%3A%0A%20%20%20%20if%20n%20%3C%2020%3A%0A%20%20%20%20%20%20%20%20print%28%22current%20n%20is%20%7B%7D%22.format%28n%29%29%0A%20%20%20%20%20%20%20%20spiral%28n%2B2%29%0A%20%0Aspiral%282%29&codeDivHeight=400&codeDivWidth=350&cumulative=false&curInstr=0&heapPrimitives=nevernest&origin=opt-frontend.js&py=3&rawInputLstJSON=%5B%5D&textReferences=false\"> </iframe>"
   ]
  },
  {
   "cell_type": "code",
   "execution_count": 9,
   "metadata": {},
   "outputs": [
    {
     "data": {
      "text/html": [
       "\n",
       "        <iframe\n",
       "            width=\"1000\"\n",
       "            height=\"800\"\n",
       "            src=\"https://pythontutor.com/iframe-embed.html#code=def%20spiral%28n%29%3A%0A%20%20%20%20if%20n%20%3C%2020%3A%0A%20%20%20%20%20%20%20%20print%28%22current%20n%20is%20%7B%7D%22.format%28n%29%29%0A%20%20%20%20%20%20%20%20spiral%28n%2B2%29%0A%20%0Aspiral%282%29&codeDivHeight=400&codeDivWidth=350&cumulative=false&curInstr=0&heapPrimitives=nevernest&origin=opt-frontend.js&py=3&rawInputLstJSON=%5B%5D&textReferences=false\"\n",
       "            frameborder=\"0\"\n",
       "            allowfullscreen\n",
       "        ></iframe>\n",
       "        "
      ],
      "text/plain": [
       "<IPython.lib.display.IFrame at 0x7f196059a950>"
      ]
     },
     "execution_count": 9,
     "metadata": {},
     "output_type": "execute_result"
    }
   ],
   "source": [
    "# Display the associated webpage in a new window\n",
    "import IPython\n",
    "url = 'https://pythontutor.com/iframe-embed.html#code=def%20spiral%28n%29%3A%0A%20%20%20%20if%20n%20%3C%2020%3A%0A%20%20%20%20%20%20%20%20print%28%22current%20n%20is%20%7B%7D%22.format%28n%29%29%0A%20%20%20%20%20%20%20%20spiral%28n%2B2%29%0A%20%0Aspiral%282%29&codeDivHeight=400&codeDivWidth=350&cumulative=false&curInstr=0&heapPrimitives=nevernest&origin=opt-frontend.js&py=3&rawInputLstJSON=%5B%5D&textReferences=false'\n",
    "IPython.display.IFrame(width=1000,height=800, src=url)"
   ]
  },
  {
   "cell_type": "code",
   "execution_count": null,
   "metadata": {},
   "outputs": [],
   "source": []
  }
 ],
 "metadata": {
  "kernelspec": {
   "display_name": "Python 3",
   "language": "python",
   "name": "python3"
  },
  "language_info": {
   "codemirror_mode": {
    "name": "ipython",
    "version": 3
   },
   "file_extension": ".py",
   "mimetype": "text/x-python",
   "name": "python",
   "nbconvert_exporter": "python",
   "pygments_lexer": "ipython3",
   "version": "3.7.4"
  }
 },
 "nbformat": 4,
 "nbformat_minor": 4
}
